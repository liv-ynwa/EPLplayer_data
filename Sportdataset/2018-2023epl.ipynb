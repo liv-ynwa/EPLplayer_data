{
 "cells": [
  {
   "cell_type": "code",
   "execution_count": 1,
   "metadata": {},
   "outputs": [],
   "source": [
    "import csv\n",
    "import json\n",
    "import glob\n",
    "\n",
    "# Specify the directory where your CSV files are located and the pattern to match\n",
    "csv_directory = '/Users/morgan/Desktop/Sportdataset/EPLcsv/'\n",
    "csv_pattern = '*.csv'\n",
    "\n",
    "# Use glob to find all CSV files in the specified directory\n",
    "csv_files = glob.glob(f'{csv_directory}/{csv_pattern}')\n",
    "combined_data = []\n",
    "\n",
    "for csv_file in csv_files:\n",
    "    with open(csv_file, 'r', encoding='utf-8') as csvfile:\n",
    "        reader = csv.DictReader(csvfile)\n",
    "        for idx, row in enumerate(reader, start=len(combined_data) + 1):\n",
    "            # Create a dictionary for the current row excluding the empty column \"\"\n",
    "            row_data = {\"SerialNumber\": idx}\n",
    "            for column_name, value in row.items():\n",
    "                if column_name != \"\":\n",
    "                    row_data[column_name] = value if value != \"null\" else None\n",
    "            combined_data.append(row_data)\n",
    "\n",
    "with open('2018-2023EPLpd.json', 'w', encoding='utf-8') as jsonfile:\n",
    "    json.dump(combined_data, jsonfile, ensure_ascii=False, indent=4)\n"
   ]
  },
  {
   "cell_type": "markdown",
   "metadata": {},
   "source": [
    "枚举（读者，开始= len（组合数据）+ 1）：\n",
    "\n",
    "enumerate() 是一个内置的 Python 函数，它将计数器添加到可迭代对象（在本例中为读取器对象）并返回迭代器。\n",
    "reader 是之前使用 csv.DictReader 创建的 CSV 阅读器对象。 它允许您将 CSV 文件的行作为字典进行迭代。\n",
    "start=len(combined_data) + 1 指定计数器的起始值。 它被设置为组合数据列表的当前长度加 1。这样做是为了确保每一行都有唯一的序列号。\n",
    "对于 idx，行输入...：\n",
    "\n",
    "此行是一个 for 循环，用于迭代 CSV 文件的行。\n",
    "idx 是计数器值，表示当前行的序列号。 它从 len(combined_data) + 1 开始，每行加 1。\n",
    "row 表示 CSV 文件中当前行的数据。 它是一个字典，其中键是列名，值是该行中相应的数据。\n",
    "因此，这一行有效地执行了以下操作："
   ]
  },
  {
   "cell_type": "markdown",
   "metadata": {},
   "source": [
    "column_name：此变量表示 CSV 文件中列的名称或标题。 它对应于行字典中的键（字段名称）。 换句话说，column_name 将包含循环每次迭代的当前列的名称。\n",
    "\n",
    "value：此变量表示当前列中正在处理的特定行的数据或值。 它对应于行字典中与键（列名）关联的值。 value 将包含循环每次迭代的当前列的数据。\n",
    "\n",
    "在循环的第一次迭代中，column_name 将为“Name”，value 将为“Alice”，因为它正在处理第一行和“Name”列。\n",
    "\n",
    "在第二次迭代中，column_name 将为“Age”，value 将为“30”，因为它正在处理第一行和“Age”列。\n",
    "\n",
    "在第三次迭代中，column_name 将为“Country”，value 将为“USA”，因为它正在处理第一行和“Country”列。"
   ]
  },
  {
   "cell_type": "markdown",
   "metadata": {},
   "source": [
    "<h1>空值的解释</h1>\n",
    "\n",
    "row_data[column_name]：这部分赋值是在 row_data 字典中创建或更新键值对。 column_name 用作键，它对应于当前列的名称。\n",
    "\n",
    "value if value != \"null\" else None：这是一个条件表达式（也称为三元或内联 if-else 语句），用于确定与 row_data 字典中的键关联的值。 它的工作原理如下：\n",
    "\n",
    "如果该值不等于字符串“null”，则将 value 指定为与 row_data 中的 column_name 键关联的值。 换句话说，它使用 CSV 文件中的实际数据。\n",
    "\n",
    "如果该值等于字符串“null”，则将 None 指定为与 row_data 中的 column_name 键关联的值。 这样做是为了表示结果字典中的缺失值或空值。"
   ]
  },
  {
   "cell_type": "markdown",
   "metadata": {},
   "source": []
  }
 ],
 "metadata": {
  "kernelspec": {
   "display_name": "base",
   "language": "python",
   "name": "python3"
  },
  "language_info": {
   "codemirror_mode": {
    "name": "ipython",
    "version": 3
   },
   "file_extension": ".py",
   "mimetype": "text/x-python",
   "name": "python",
   "nbconvert_exporter": "python",
   "pygments_lexer": "ipython3",
   "version": "3.9.12"
  },
  "orig_nbformat": 4
 },
 "nbformat": 4,
 "nbformat_minor": 2
}
