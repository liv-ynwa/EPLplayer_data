{
 "cells": [
  {
   "cell_type": "code",
   "execution_count": 1,
   "metadata": {},
   "outputs": [],
   "source": [
    "import csv\n",
    "import json\n",
    "import glob\n",
    "\n",
    "# Specify the directory where your CSV files are located and the pattern to match\n",
    "csv_directory = '/Users/morgan/Desktop/Sportdataset/EPLcsv/'\n",
    "csv_pattern = '*.csv'\n",
    "\n",
    "# Use glob to find all CSV files in the specified directory\n",
    "csv_files = glob.glob(f'{csv_directory}/{csv_pattern}')\n",
    "combined_data = []\n",
    "\n",
    "for csv_file in csv_files:\n",
    "    with open(csv_file, 'r', encoding='utf-8') as csvfile:\n",
    "        reader = csv.DictReader(csvfile)\n",
    "        for idx, row in enumerate(reader, start=len(combined_data) + 1):\n",
    "            # Create a dictionary for the current row excluding the empty column \"\"\n",
    "            row_data = {\"SerialNumber\": idx}\n",
    "            for column_name, value in row.items():\n",
    "                if column_name != \"\":\n",
    "                    row_data[column_name] = value if value != \"null\" else None\n",
    "            combined_data.append(row_data)\n",
    "\n",
    "with open('2018-2023EPLpd.json', 'w', encoding='utf-8') as jsonfile:\n",
    "    json.dump(combined_data, jsonfile, ensure_ascii=False, indent=4)\n"
   ]
  }
 ],
 "metadata": {
  "kernelspec": {
   "display_name": "base",
   "language": "python",
   "name": "python3"
  },
  "language_info": {
   "codemirror_mode": {
    "name": "ipython",
    "version": 3
   },
   "file_extension": ".py",
   "mimetype": "text/x-python",
   "name": "python",
   "nbconvert_exporter": "python",
   "pygments_lexer": "ipython3",
   "version": "3.9.12"
  },
  "orig_nbformat": 4
 },
 "nbformat": 4,
 "nbformat_minor": 2
}
